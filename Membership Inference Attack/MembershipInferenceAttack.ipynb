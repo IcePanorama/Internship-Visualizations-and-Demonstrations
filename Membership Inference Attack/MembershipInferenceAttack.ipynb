{
  "nbformat": 4,
  "nbformat_minor": 0,
  "metadata": {
    "colab": {
      "provenance": []
    },
    "kernelspec": {
      "name": "python3",
      "display_name": "Python 3"
    },
    "language_info": {
      "name": "python"
    }
  },
  "cells": [
    {
      "cell_type": "code",
      "source": [
        "# Required packages\n",
        "!pip install torch\n",
        "!pip install seaborn"
      ],
      "metadata": {
        "id": "xW8NZWqnOsY2"
      },
      "execution_count": null,
      "outputs": []
    },
    {
      "cell_type": "code",
      "source": [
        "import os\n",
        "from torch.utils import cpp_extension\n",
        "\n",
        "\n",
        "# Not sure if these is really needed atm,\n",
        "# but I'm keeping it here just in case.\n",
        "def print_compiledir_content():\n",
        "    compile_dir = cpp_extension.get_default_build_root()\n",
        "    if os.path.exists(compile_dir):\n",
        "        print(\"Contents of the compiled directory:\")\n",
        "        for item in os.listdir(compile_dir):\n",
        "            print(item)\n",
        "    else:\n",
        "        print(\"Compiled directory does not exist.\")\n",
        "\n",
        "\n",
        "print_compiledir_content()\n"
      ],
      "metadata": {
        "id": "4eAU1vJTLc_q"
      },
      "execution_count": null,
      "outputs": []
    },
    {
      "cell_type": "code",
      "source": [
        "# I don't think we need any of this\n",
        "# either, but I'll also keep this here\n",
        "# just for the time being.\n",
        "MODEL_PATH = \"./model/\"\n",
        "DATA_PATH = \"./data/\"\n",
        "\n",
        "if not os.path.exists(MODEL_PATH):\n",
        "    os.makedirs(MODEL_PATH)\n",
        "\n",
        "if not os.path.exists(DATA_PATH):\n",
        "    os.makedirs(DATA_PATH)\n"
      ],
      "metadata": {
        "id": "sMLsqgpaMKfy"
      },
      "execution_count": 133,
      "outputs": []
    },
    {
      "cell_type": "code",
      "source": [
        "import torch.nn as nn\n",
        "\n",
        "\n",
        "class LogisticRegressionModel(nn.Module):\n",
        "    def __init__(self, input_size):\n",
        "        super(LogisticRegressionModel, self).__init__()\n",
        "        self.linear = nn.Linear(input_size, 1)\n",
        "        self.sigmoid = nn.Sigmoid()\n",
        "\n",
        "\n",
        "    def forward(self, x):\n",
        "        out = self.linear(x)\n",
        "        out = self.sigmoid(out)\n",
        "        return out\n"
      ],
      "metadata": {
        "id": "ZvcRvopIRykq"
      },
      "execution_count": 134,
      "outputs": []
    },
    {
      "cell_type": "code",
      "source": [
        "import pandas\n",
        "import torch\n",
        "import torch.optim as optim\n",
        "from sklearn import datasets\n",
        "from sklearn.model_selection import train_test_split\n",
        "from sklearn.utils.class_weight import compute_class_weight\n",
        "from torch.optim.lr_scheduler import ReduceLROnPlateau\n",
        "\n",
        "\n",
        "def train_target_model(input_size, x_train_tensor, y_train_tensor,\n",
        "                       num_epochs=1000):\n",
        "    \"\"\"\n",
        "        train_target_model\n",
        "\n",
        "        Trains a linear regression model w/ a\n",
        "        binary cross-entropy (log loss) loss\n",
        "        function and an Adam optimizer\n",
        "\n",
        "        Args:\n",
        "            input_size (int): Num of features in the input data\n",
        "            x_train_tensor (torch.Tensor): Input training tensor\n",
        "            y_train_tensor (torch.Tensor): Target training tensor\n",
        "            num_epochs (int, optional): Num of training epochs (def. is 1000)\n",
        "\n",
        "        Returns:\n",
        "            torch.nn.Module: Trained logistic regression model\n",
        "    \"\"\"\n",
        "    model = LogisticRegressionModel(input_size)\n",
        "    criterion = nn.BCELoss()\n",
        "    optimizer = optim.Adam(model.parameters(), lr=0.001)\n",
        "    scheduler = ReduceLROnPlateau(optimizer, 'min', patience=5, factor=0.1,\n",
        "                                  verbose=True)\n",
        "\n",
        "    for epoch in range(num_epochs):\n",
        "        model.train()\n",
        "        outputs = model(x_train_tensor)\n",
        "        loss = criterion(outputs, y_train_tensor)\n",
        "\n",
        "        optimizer.zero_grad()\n",
        "        loss.backward()\n",
        "        optimizer.step()\n",
        "        scheduler.step(loss)\n",
        "\n",
        "        if (epoch + 1) % 100 == 0:\n",
        "            print(f'Epoch [{epoch + 1}/{num_epochs}], Loss: {loss.item():.4f}')\n",
        "\n",
        "    return model\n"
      ],
      "metadata": {
        "id": "1Hnh23PbNXmt"
      },
      "execution_count": 135,
      "outputs": []
    },
    {
      "cell_type": "code",
      "source": [
        "import matplotlib.pyplot as plt\n",
        "import seaborn as sns\n",
        "from sklearn.metrics import confusion_matrix\n",
        "\n",
        "\n",
        "def plot_confusion_matrix(y_true, y_pred):\n",
        "    cm = confusion_matrix(y_true, y_pred)\n",
        "    sns.heatmap(cm, annot=True, cmap='Blues', fmt='g')\n",
        "    plt.xlabel('Predicted labels')\n",
        "    plt.ylabel('True labels')\n",
        "    plt.title('Confusion Matrix')\n",
        "    plt.show()"
      ],
      "metadata": {
        "id": "uy_KVIHWUEMZ"
      },
      "execution_count": 136,
      "outputs": []
    },
    {
      "cell_type": "code",
      "source": [
        "import numpy as np\n",
        "from sklearn.metrics import accuracy_score, precision_score, recall_score, f1_score\n",
        "from sklearn.preprocessing import StandardScaler\n",
        "from sklearn.utils import class_weight\n",
        "\n",
        "bcancer = datasets.load_breast_cancer()\n",
        "print(bcancer.DESCR)\n",
        "\n",
        "x = bcancer.data\n",
        "y = bcancer.target\n",
        "dataframe = pandas.DataFrame(x, columns=bcancer.feature_names)\n",
        "dataframe['Diagnosis'] = y\n",
        "\n",
        "train_df, test_df = train_test_split(dataframe, test_size=0.2, random_state=1)\n",
        "\n",
        "x_train = train_df.drop(\"Diagnosis\", axis=1).values\n",
        "y_train = train_df[\"Diagnosis\"].values\n",
        "x_test = test_df.drop(\"Diagnosis\", axis=1).values\n",
        "y_test = test_df[\"Diagnosis\"].values\n",
        "\n",
        "scaler = StandardScaler()\n",
        "x_train_scaled = scaler.fit_transform(x_train)\n",
        "x_test_scaled = scaler.transform(x_test)\n",
        "\n",
        "x_train_tensor = torch.tensor(x_train_scaled, dtype=torch.float32)\n",
        "y_train_tensor = torch.tensor(y_train, dtype=torch.float32).view(-1, 1)\n",
        "x_test_tensor = torch.tensor(x_test_scaled, dtype=torch.float32)\n",
        "y_test_tensor = torch.tensor(y_test, dtype=torch.float32).view(-1, 1)\n",
        "\n",
        "model = train_target_model(x_train.shape[1], x_train_tensor, y_train_tensor)\n",
        "\n",
        "model.eval()\n",
        "with torch.no_grad():\n",
        "    y_pred_prob = model(x_test_tensor)\n",
        "    y_pred = (y_pred_prob >= 0.5).float()\n",
        "\n",
        "print(\"-\" * 50)\n",
        "y_pred = y_pred.numpy().flatten()\n",
        "y_true = y_test_tensor.numpy().flatten()\n",
        "accuracy = accuracy_score(y_true, y_pred)\n",
        "precision = precision_score(y_true, y_pred)\n",
        "recall = recall_score(y_true, y_pred)\n",
        "f1 = f1_score(y_true, y_pred)\n",
        "print(f\"Accuracy:\\t%0.4f\\t(TP + TN)/(TP+TN+FP+FN)\" % accuracy)\n",
        "print(\"Precision:\\t%0.4f\\tTP/(TP+FP)\" % precision)\n",
        "print(\"Recall:\\t\\t%0.4f\\tTP/(TP+FN)\" % recall)    # this needs two tabs to be aligned w/ others\n",
        "print(\"F1 Score:\\t%0.4f\\t2*(Precision * Recall)/(Precision + Recall)\" % f1)\n",
        "\n",
        "plot_confusion_matrix(y_true, y_pred)"
      ],
      "metadata": {
        "id": "QVIDa1mcTJgy"
      },
      "execution_count": null,
      "outputs": []
    }
  ]
}